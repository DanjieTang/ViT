{
 "cells": [
  {
   "cell_type": "code",
   "execution_count": 1,
   "metadata": {
    "id": "Hmf43eOzQQUU"
   },
   "outputs": [],
   "source": [
    "import torch\n",
    "import torch.nn as nn\n",
    "import torch.nn.functional as F\n",
    "import math\n",
    "import numpy as np\n",
    "from torch.utils.data import DataLoader\n",
    "from torchvision import transforms, datasets\n",
    "from tqdm import tqdm\n",
    "import matplotlib.pyplot as plt\n",
    "from collections import deque\n",
    "\n",
    "# Reproducibility\n",
    "import random\n",
    "seed = 42\n",
    "torch.manual_seed(seed)\n",
    "np.random.seed(seed)\n",
    "random.seed(seed)"
   ]
  },
  {
   "cell_type": "code",
   "execution_count": 2,
   "metadata": {},
   "outputs": [],
   "source": [
    "# Training Configuration\n",
    "epochs = 10\n",
    "batch_size = 64\n",
    "lr = 3e-4\n",
    "weight_decay = 1e-3\n",
    "device = \"mps\"\n",
    "checkpoint_filepath = \"\"  # Set to a path if you want to load a checkpoint\n",
    "save_dir = \"checkpoints\"\n",
    "dataset_filepath = \"./ImagenetHighResolution\"\n",
    "import os\n",
    "os.makedirs(save_dir, exist_ok=True)"
   ]
  },
  {
   "cell_type": "code",
   "execution_count": 3,
   "metadata": {
    "id": "zfdeGJwXQIHU"
   },
   "outputs": [],
   "source": [
    "class PatchEmbedding(nn.Module):\n",
    "    \"\"\"\n",
    "    Module that converts image patches to embeddings for Vision Transformer.\n",
    "    \"\"\"\n",
    "    def __init__(self,\n",
    "                 image_size: tuple = (64, 72),\n",
    "                 patch_size: int = 16,\n",
    "                 in_channels: int = 3,\n",
    "                 embedding_dim: int = 1024):\n",
    "        super().__init__()\n",
    "        self.image_size = image_size\n",
    "        self.patch_size = patch_size\n",
    "        self.in_channels = in_channels\n",
    "\n",
    "        # Calculate number of patches\n",
    "        self.num_patches = (image_size[0] // patch_size) * (image_size[1] // patch_size)\n",
    "\n",
    "        # Create projection for converting patches to embeddings\n",
    "        self.projection = nn.Conv2d(\n",
    "            in_channels=in_channels,\n",
    "            out_channels=embedding_dim,\n",
    "            kernel_size=patch_size,\n",
    "            stride=patch_size\n",
    "        )\n",
    "\n",
    "        # CLS token embedding\n",
    "        self.cls_token = nn.Parameter(torch.zeros(1, 1, embedding_dim))\n",
    "\n",
    "        # Positional embedding (Normal distribution initialization of value)\n",
    "        self.positions = nn.Parameter(torch.zeros(1, self.num_patches + 1, embedding_dim))\n",
    "        nn.init.trunc_normal_(self.positions, std=0.02)\n",
    "\n",
    "    def forward(self, x: torch.Tensor) -> torch.Tensor:\n",
    "        batch_size = x.shape[0]\n",
    "\n",
    "        # Convert image to patches and project to embedding dimension\n",
    "        # x shape: [batch_size, channels, height, width]\n",
    "        x = self.projection(x)\n",
    "        # x shape: [batch_size, embedding_dim, height/patch_size, width/patch_size]\n",
    "\n",
    "        # Flatten patches to sequence\n",
    "        x = x.flatten(2).transpose(1, 2)\n",
    "        # x shape: [batch_size, num_patches, embedding_dim]\n",
    "\n",
    "        # Add CLS token\n",
    "        cls_tokens = self.cls_token.expand(batch_size, -1, -1)\n",
    "        x = torch.cat((cls_tokens, x), dim=1)\n",
    "\n",
    "        # Add positional embeddings\n",
    "        x = x + self.positions\n",
    "\n",
    "        return x\n",
    "\n",
    "\n",
    "class VisionAttention(nn.Module):\n",
    "    def __init__(self,\n",
    "                 hidden_dim: int,\n",
    "                 head_dim: int,\n",
    "                 q_head: int,\n",
    "                 kv_head: int,\n",
    "                 lora_rank: int = 16,\n",
    "                 lora_alpha: int = 32,\n",
    "                 dropout_ratio: float = 0.1):\n",
    "        super().__init__()\n",
    "        self.head_dim = head_dim\n",
    "        self.q_head = q_head\n",
    "        self.kv_head = kv_head\n",
    "        self.qkv = nn.Linear(hidden_dim, (q_head+kv_head*2)*head_dim)\n",
    "        self.o = nn.Linear(q_head*head_dim, hidden_dim)\n",
    "        self.scaler = 1/math.sqrt(head_dim)\n",
    "        self.attn_dropout = nn.Dropout(dropout_ratio)\n",
    "\n",
    "        # LoRA\n",
    "        self.lora_scale = lora_alpha / lora_rank\n",
    "        self.lora_qkv_a = nn.Linear(hidden_dim, lora_rank)\n",
    "        self.lora_qkv_b = nn.Linear(lora_rank, (q_head+kv_head*2)*head_dim)\n",
    "        self.lora_o_a = nn.Linear(q_head*head_dim, lora_rank)\n",
    "        self.lora_o_b = nn.Linear(lora_rank, hidden_dim)\n",
    "\n",
    "        if q_head != kv_head:\n",
    "            # If we are using multi query attention\n",
    "            assert q_head % kv_head == 0\n",
    "            self.multi_query_attention = True\n",
    "            self.q_kv_scale = q_head//kv_head\n",
    "        else:\n",
    "            self.multi_query_attention = False\n",
    "\n",
    "    def forward(self, tensor: torch.Tensor, fine_tuning: bool = False) -> torch.Tensor:\n",
    "        batch_size, seq_len, hid_dim = tensor.shape\n",
    "\n",
    "        qkv_tensor = self.qkv(tensor)\n",
    "        if fine_tuning:\n",
    "            lora_tensor = self.lora_qkv_a(tensor)\n",
    "            lora_tensor = self.lora_qkv_b(lora_tensor)\n",
    "            lora_tensor = lora_tensor * self.lora_scale\n",
    "            qkv_tensor = lora_tensor + qkv_tensor\n",
    "        query, key, value = qkv_tensor.split([self.head_dim*self.q_head, self.head_dim*self.kv_head, self.head_dim*self.kv_head], dim=-1)\n",
    "\n",
    "        query = query.contiguous().view(batch_size, seq_len, self.q_head, self.head_dim)\n",
    "        key = key.contiguous().view(batch_size, seq_len, self.kv_head, self.head_dim)\n",
    "        value = value.contiguous().view(batch_size, seq_len, self.kv_head, self.head_dim)\n",
    "\n",
    "        if self.multi_query_attention:\n",
    "            # Efficient broadcasting instead of repeat_interleave\n",
    "            key = key.view(batch_size, seq_len, self.kv_head, 1, self.head_dim)\n",
    "            key = key.expand(-1, -1, -1, self.q_kv_scale, -1)\n",
    "            key = key.reshape(batch_size, seq_len, self.q_head, self.head_dim)\n",
    "            \n",
    "            value = value.view(batch_size, seq_len, self.kv_head, 1, self.head_dim)\n",
    "            value = value.expand(-1, -1, -1, self.q_kv_scale, -1)\n",
    "            value = value.reshape(batch_size, seq_len, self.q_head, self.head_dim)\n",
    "\n",
    "        # Switch to batch_size, head, seq_len, head_dim\n",
    "        query = query.transpose(1, 2)\n",
    "        key = key.transpose(1, 2)\n",
    "        value = value.transpose(1, 2)\n",
    "\n",
    "        # Classic self attention without attention mask ViT\n",
    "        attention_raw = torch.matmul(query, key.transpose(2, 3))\n",
    "        attention_scaled = attention_raw * self.scaler\n",
    "        attention_score = torch.softmax(attention_scaled, dim=-1)\n",
    "        attention_score = self.attn_dropout(attention_score)\n",
    "        value = torch.matmul(attention_score, value)\n",
    "\n",
    "        # Reshape back to batch_size, seq_len, hid_dim\n",
    "        value = value.transpose(1, 2).contiguous()\n",
    "        value = value.view(batch_size, seq_len, hid_dim)\n",
    "\n",
    "        # Output layer\n",
    "        output = self.o(value)\n",
    "        if fine_tuning:\n",
    "            lora_tensor = self.lora_o_a(value)\n",
    "            lora_tensor = self.lora_o_b(lora_tensor)\n",
    "            lora_tensor = lora_tensor * self.lora_scale\n",
    "            output = lora_tensor + output\n",
    "\n",
    "        output = self.attn_dropout(output)\n",
    "        return output\n",
    "\n",
    "\n",
    "class FeedForward(nn.Module):\n",
    "    def __init__(self,\n",
    "                 hidden_size: int,\n",
    "                 expansion_factor: int = 4,\n",
    "                 dropout_ratio: float = 0.1,\n",
    "                 lora_rank: int = 16,\n",
    "                 lora_alpha: int = 32):\n",
    "        super().__init__()\n",
    "        self.gate_and_up = nn.Linear(hidden_size, hidden_size * expansion_factor * 2)\n",
    "        self.down = nn.Linear(hidden_size * expansion_factor, hidden_size)\n",
    "        self.dropout = nn.Dropout(p=dropout_ratio)\n",
    "\n",
    "        # LoRA\n",
    "        self.lora_scale = lora_alpha / lora_rank\n",
    "        self.lora_gate_and_up_a = nn.Linear(hidden_size, lora_rank)\n",
    "        self.lora_gate_and_up_b = nn.Linear(lora_rank, hidden_size * expansion_factor * 2)\n",
    "        self.lora_down_a = nn.Linear(hidden_size * expansion_factor, lora_rank)\n",
    "        self.lora_down_b = nn.Linear(lora_rank, hidden_size)\n",
    "\n",
    "    def forward(self, tensor: torch.Tensor, fine_tuning: bool = False) -> torch.Tensor:\n",
    "        gate_and_up = self.gate_and_up(tensor)\n",
    "        if fine_tuning:\n",
    "            lora_tensor = self.lora_gate_and_up_a(tensor)\n",
    "            lora_tensor = self.lora_gate_and_up_b(lora_tensor)\n",
    "            lora_tensor = lora_tensor * self.lora_scale\n",
    "            gate_and_up = gate_and_up + lora_tensor\n",
    "        gate, up = gate_and_up.chunk(chunks=2, dim=-1)\n",
    "        gate = F.gelu(gate, approximate=\"tanh\")\n",
    "        tensor = gate * up\n",
    "        tensor = self.dropout(tensor)\n",
    "        down_tensor = self.down(tensor)\n",
    "        if fine_tuning:\n",
    "            lora_tensor = self.lora_down_a(tensor)\n",
    "            lora_tensor = self.lora_down_b(lora_tensor)\n",
    "            lora_tensor = lora_tensor * self.lora_scale\n",
    "            down_tensor = down_tensor + lora_tensor\n",
    "        return down_tensor\n",
    "\n",
    "\n",
    "class MOE(nn.Module):\n",
    "    def __init__(self, hidden_size: int, num_experts: int = 8, expansion_factor: int = 4, dropout_ratio: float = 0.1, lora_rank: int = 16, lora_alpha: int = 32):\n",
    "        super().__init__()\n",
    "        self.gate = nn.Linear(hidden_size, num_experts)\n",
    "        self.num_experts = num_experts\n",
    "        self.experts = nn.ModuleList([FeedForward(hidden_size, expansion_factor=expansion_factor, dropout_ratio=dropout_ratio, lora_rank=lora_rank, lora_alpha=lora_alpha) for _ in range(num_experts)])\n",
    "\n",
    "    def forward(self, tensor: torch.Tensor, fine_tuning: bool = False) -> tuple[torch.Tensor, torch.Tensor]:\n",
    "        # Flatten for better manipulation, this is ok because tokens are independent at this stage\n",
    "        batch_size, seq_len, hidden_size = tensor.shape\n",
    "        flat_tensor = tensor.reshape(batch_size * seq_len, hidden_size)\n",
    "\n",
    "        # Pass through the gating network and select experts\n",
    "        tensor = self.gate(flat_tensor)\n",
    "        tensor = F.softmax(tensor, dim=-1)\n",
    "\n",
    "        # The output of this step is a tensor of shape [batch_size * seq_len, 2] with element i in the second dimension representing ith expert selected for this token\n",
    "        value_tensor, index_tensor = tensor.topk(k=2, dim=-1)\n",
    "\n",
    "        # Find the load balancing loss\n",
    "        counts = torch.bincount(index_tensor[:, 0], minlength=self.num_experts)\n",
    "        frequencies = counts.float() / (batch_size * seq_len) # This is the hard one-hot frequency\n",
    "        probability = tensor.mean(0) # This is the soft probability\n",
    "        load_balancing_loss = (probability * frequencies).mean() * float(self.num_experts ** 2)\n",
    "\n",
    "        # Normalize top1 and top2 score\n",
    "        top_expert_score = value_tensor[:, 0]\n",
    "        second_expert_score = value_tensor[:, 1]\n",
    "        total_score = top_expert_score + second_expert_score\n",
    "        top_expert_score = top_expert_score / total_score\n",
    "        second_expert_score = second_expert_score / total_score\n",
    "\n",
    "        # Split into top 2 experts\n",
    "        split_tensors = torch.split(index_tensor, 1, dim=-1)\n",
    "        top_expert, second_expert = split_tensors[0], split_tensors[1]\n",
    "        indices = torch.arange(batch_size * seq_len).unsqueeze(-1).to(tensor.device)\n",
    "        top_expert = torch.cat((indices, top_expert), dim=-1)\n",
    "        second_expert = torch.cat((indices, second_expert), dim=-1)\n",
    "\n",
    "        # Sort based on expert selection\n",
    "        top_expert = top_expert[top_expert[:,1].argsort()]\n",
    "        second_expert = second_expert[second_expert[:,1].argsort()]\n",
    "\n",
    "        # Count how many tokens goes to each expert\n",
    "        top_expert_counts = torch.zeros(self.num_experts, dtype=int)\n",
    "        for i in range(self.num_experts):\n",
    "            top_expert_counts[i] = (top_expert[:,1] == i).sum()\n",
    "        top_expert_counts = top_expert_counts.tolist()\n",
    "\n",
    "        second_expert_counts = torch.zeros(self.num_experts, dtype=int)\n",
    "        for i in range(self.num_experts):\n",
    "            second_expert_counts[i] = (second_expert[:,1] == i).sum()\n",
    "        second_expert_counts = second_expert_counts.tolist()\n",
    "\n",
    "        # Split input tokens for each expert\n",
    "        top_expert_tokens = flat_tensor[top_expert[:,0]]\n",
    "        second_expert_tokens = flat_tensor[second_expert[:,0]]\n",
    "\n",
    "        # Split into a list of tensors, element i tensor is for ith expert.\n",
    "        top_expert_tokens = torch.split(top_expert_tokens, top_expert_counts, dim=0)\n",
    "        second_expert_tokens = torch.split(second_expert_tokens, second_expert_counts, dim=0)\n",
    "\n",
    "        # Input into each expert and obtain results in a list\n",
    "        top_expert_outputs = [self.experts[i](top_expert_tokens[i], fine_tuning) if top_expert_counts[i] > 0 else torch.zeros(0, hidden_size, dtype=torch.float16).to(tensor.device) for i in range(self.num_experts)]\n",
    "        second_expert_outputs = [self.experts[i](second_expert_tokens[i], fine_tuning) if second_expert_counts[i] > 0 else torch.zeros(0, hidden_size, dtype=torch.float16).to(tensor.device) for i in range(self.num_experts)]\n",
    "\n",
    "        # Combine outputs\n",
    "        top_expert_outputs = torch.cat(top_expert_outputs, dim=0)\n",
    "        second_expert_outputs = torch.cat(second_expert_outputs, dim=0)\n",
    "\n",
    "        # Re-index the output back to original token order\n",
    "        # flat_top_expert_tensor = torch.zeros_like(flat_tensor, dtype=torch.float32).to(tensor.device)\n",
    "        # flat_top_expert_tensor.index_copy_(0, top_expert[:, 0], top_expert_outputs)\n",
    "\n",
    "        # flat_second_expert_tensor = torch.zeros_like(flat_tensor, dtype=torch.float32).to(tensor.device)\n",
    "        # flat_second_expert_tensor.index_copy_(0, second_expert[:, 0], second_expert_outputs)\n",
    "        flat_top_expert_tensor = torch.zeros_like(flat_tensor, dtype=torch.float32).to(\"cpu\")\n",
    "        flat_top_expert_tensor = flat_top_expert_tensor.index_copy_(0, top_expert[:, 0].to(\"cpu\"), top_expert_outputs.to(\"cpu\")).to(tensor.device)\n",
    "        flat_second_expert_tensor = torch.zeros_like(flat_tensor, dtype=torch.float32).to(\"cpu\")\n",
    "        flat_second_expert_tensor = flat_second_expert_tensor.index_copy_(0, second_expert[:, 0].to(\"cpu\"), second_expert_outputs.to(\"cpu\")).to(tensor.device)\n",
    "\n",
    "        # Find final output tensor based on weight between top and second expert\n",
    "        final_tensor = top_expert_score.unsqueeze(-1) * flat_top_expert_tensor + second_expert_score.unsqueeze(-1) * flat_second_expert_tensor\n",
    "\n",
    "        # Reshape to original [batch_size, seq_len, hidden_size]\n",
    "        final_tensor = final_tensor.contiguous().reshape(batch_size, seq_len, hidden_size)\n",
    "\n",
    "        return final_tensor, load_balancing_loss\n",
    "\n",
    "\n",
    "class VisionLayer(nn.Module):\n",
    "    def __init__(self,\n",
    "                 hidden_dim: int,\n",
    "                 head_dim: int,\n",
    "                 q_head: int,\n",
    "                 kv_head: int,\n",
    "                 expansion_factor: int = 4,\n",
    "                 dropout_ratio: float = 0.1,\n",
    "                 use_moe: bool = False,\n",
    "                 num_experts: int = 8,\n",
    "                 lora_rank: int = 16,\n",
    "                 lora_alpha:int = 32):\n",
    "        super().__init__()\n",
    "        self.use_moe = use_moe\n",
    "\n",
    "        self.norm1 = nn.LayerNorm(hidden_dim)\n",
    "        self.attention = VisionAttention(hidden_dim, head_dim, q_head, kv_head, lora_rank=lora_rank, lora_alpha=lora_alpha, dropout_ratio=dropout_ratio)\n",
    "\n",
    "        self.norm2 = nn.LayerNorm(hidden_dim)\n",
    "        if self.use_moe:\n",
    "            self.moe = MOE(hidden_dim, num_experts=num_experts, expansion_factor=expansion_factor,\n",
    "                           dropout_ratio=dropout_ratio, lora_rank=lora_rank)\n",
    "        else:\n",
    "            self.ffn = FeedForward(hidden_dim, expansion_factor=expansion_factor, dropout_ratio=dropout_ratio,\n",
    "                                  lora_rank=lora_rank, lora_alpha=lora_alpha)\n",
    "\n",
    "    def forward(self, tensor: torch.Tensor, fine_tuning: bool = False):\n",
    "        skip_connection = tensor\n",
    "        tensor = self.norm1(tensor)\n",
    "        tensor = self.attention(tensor, fine_tuning=fine_tuning)\n",
    "        tensor += skip_connection\n",
    "\n",
    "        skip_connection = tensor\n",
    "        tensor = self.norm2(tensor)\n",
    "        if self.use_moe:\n",
    "            tensor, load_balancing_loss = self.moe(tensor, fine_tuning=fine_tuning)\n",
    "        else:\n",
    "            tensor = self.ffn(tensor, fine_tuning=fine_tuning)\n",
    "            load_balancing_loss = torch.tensor(0.0, dtype=tensor.dtype, device=tensor.device)\n",
    "\n",
    "        tensor += skip_connection\n",
    "\n",
    "        return tensor, load_balancing_loss\n",
    "\n",
    "\n",
    "class VisionTransformer(nn.Module):\n",
    "    def __init__(self,\n",
    "                 image_size: tuple,\n",
    "                 num_classes: int = 1,\n",
    "                 patch_size: int = 8,\n",
    "                 in_channels: int = 3,\n",
    "                 num_layer: int = 3,\n",
    "                 hidden_dim: int = 1024,\n",
    "                 expansion_factor: int = 8,\n",
    "                 head_dim: int = 64,\n",
    "                 q_head: int = 16,\n",
    "                 kv_head: int = 4,\n",
    "                 dropout_ratio: float = 0.1,\n",
    "                 use_moe: bool = True,\n",
    "                 num_experts: int = 8,\n",
    "                 load_balancing_loss_weight: float = 1e-2,\n",
    "                 fine_tuning: bool = False,\n",
    "                 lora_rank: int = 16,\n",
    "                 lora_alpha: int = 32):\n",
    "        super().__init__()\n",
    "        self.num_layer = num_layer\n",
    "        self.load_balancing_loss_weight = load_balancing_loss_weight\n",
    "        self.fine_tuning = fine_tuning\n",
    "\n",
    "        # Patch embedding\n",
    "        self.patch_embedding = PatchEmbedding(\n",
    "            image_size=image_size,\n",
    "            patch_size=patch_size,\n",
    "            in_channels=in_channels,\n",
    "            embedding_dim=hidden_dim\n",
    "        )\n",
    "\n",
    "        # Calculate number of patches (sequence length)\n",
    "        self.num_patches = (image_size[0] // patch_size) * (image_size[1] // patch_size) + 1  # +1 for cls token\n",
    "\n",
    "        if q_head == None:\n",
    "            q_head = (hidden_dim // head_dim)\n",
    "\n",
    "        if kv_head == None:\n",
    "            kv_head = (hidden_dim // head_dim)\n",
    "\n",
    "        if hidden_dim % (head_dim * q_head) != 0 or hidden_dim % (head_dim * kv_head):\n",
    "            raise ValueError(\"Error: hidden_dim or projection_dim (if specified) must be divisible by the product of the number of q or kv heads and the head dimension.\")\n",
    "\n",
    "        # Create transformer layers\n",
    "        self.transformer = nn.ModuleList()\n",
    "        for _ in range(self.num_layer):\n",
    "            self.transformer.append(VisionLayer(\n",
    "                hidden_dim, head_dim, q_head, kv_head,\n",
    "                expansion_factor=expansion_factor,\n",
    "                dropout_ratio=dropout_ratio,\n",
    "                use_moe=use_moe,\n",
    "                num_experts=num_experts,\n",
    "                lora_rank=lora_rank,\n",
    "                lora_alpha=lora_alpha\n",
    "            ))\n",
    "        self.output_norm = nn.LayerNorm(hidden_dim)\n",
    "\n",
    "        # Final classifier head\n",
    "        self.classifier = nn.Linear(hidden_dim, num_classes)\n",
    "\n",
    "    def begin_fine_tunning(self) -> None:\n",
    "        self.fine_tuning = True\n",
    "        for name, param in self.named_parameters():\n",
    "            if \"lora\" not in name:\n",
    "                param.requires_grad = False\n",
    "            else:\n",
    "                param.requires_grad = True\n",
    "\n",
    "    def exit_fine_tunning(self) -> None:\n",
    "        self.fine_tuning = False\n",
    "        for name, param in self.named_parameters():\n",
    "            param.requires_grad = True\n",
    "\n",
    "    def forward(self, x: torch.Tensor) -> tuple[torch.Tensor, torch.Tensor]:\n",
    "        # Handle input shape\n",
    "        if len(x.shape) == 3:  # [batch_size, 64, 72]\n",
    "            # Reshape to [batch_size, channels, height, width]\n",
    "            # Assuming the input is grayscale (1 channel)\n",
    "            batch_size, height, width = x.shape\n",
    "            x = x.unsqueeze(1)  # Add channel dimension [batch_size, 1, 64, 72]\n",
    "\n",
    "        # Apply patch embedding\n",
    "        x = self.patch_embedding(x)\n",
    "\n",
    "        # Track load-balancing across layers (only if MoE is used)\n",
    "        load_balancing_sum = torch.tensor(0.0, device=x.device)\n",
    "\n",
    "        # Pass through transformer layers\n",
    "        for layer in self.transformer:\n",
    "            x, load_balancing_loss = layer(x, fine_tuning=self.fine_tuning)\n",
    "            load_balancing_sum += load_balancing_loss\n",
    "\n",
    "        load_balancing_loss = (load_balancing_sum / self.num_layer) * self.load_balancing_loss_weight\n",
    "\n",
    "        # Apply output normalization\n",
    "        x = self.output_norm(x)\n",
    "\n",
    "        # Use CLS token for classification\n",
    "        x = x[:, 0]  # Take only the CLS token\n",
    "\n",
    "        # Apply classifier\n",
    "        x = self.classifier(x)\n",
    "\n",
    "        return x, load_balancing_loss"
   ]
  },
  {
   "cell_type": "code",
   "execution_count": 4,
   "metadata": {},
   "outputs": [],
   "source": [
    "# Define image transformations for preprocessing\n",
    "transform = transforms.Compose([\n",
    "    transforms.Resize((256, 256)),\n",
    "    transforms.ToTensor(),\n",
    "    transforms.Normalize(mean=[0.5, 0.5, 0.5], std=[0.5, 0.5, 0.5])\n",
    "])\n",
    "\n",
    "def valid_image_folder(path: str) -> bool:\n",
    "    # Check if file starts with '._' or ends with '.DS_Store'\n",
    "    filename = os.path.basename(path)\n",
    "    if filename.startswith(\"._\") or filename == \".DS_Store\": # Stupid MacOS\n",
    "        return False\n",
    "    \n",
    "    return True\n",
    "\n",
    "# Use ImageFolder to automatically label images based on folder names\n",
    "dataset = datasets.ImageFolder(root=dataset_filepath, is_valid_file=valid_image_folder, transform=transform)\n",
    "\n",
    "train_size = int(0.8 * len(dataset))\n",
    "val_size = int(0.1 * len(dataset))\n",
    "test_size = len(dataset) - train_size - val_size\n",
    "g = torch.Generator().manual_seed(seed)\n",
    "train_dataset, val_dataset, test_dataset = torch.utils.data.random_split(\n",
    "    dataset, [train_size, val_size, test_size], generator=g\n",
    ")\n",
    "\n",
    "# Create DataLoaders for training and validation\n",
    "train_loader = DataLoader(train_dataset, batch_size=batch_size, shuffle=True)\n",
    "val_loader = DataLoader(val_dataset, batch_size=batch_size, shuffle=True)\n",
    "test_loader = DataLoader(test_dataset, batch_size=batch_size, shuffle=True)"
   ]
  },
  {
   "cell_type": "code",
   "execution_count": 5,
   "metadata": {},
   "outputs": [],
   "source": [
    "# Checkpoint loading\n",
    "def load_checkpoint(model, optimizer, scheduler, filepath, device):\n",
    "    checkpoint = torch.load(filepath, map_location=device, weights_only=False)\n",
    "    model.load_state_dict(checkpoint[\"model_state_dict\"])\n",
    "    optimizer.load_state_dict(checkpoint[\"optimizer_state_dict\"])\n",
    "    scheduler.load_state_dict(checkpoint[\"scheduler_state_dict\"])\n",
    "\n",
    "    epoch = checkpoint[\"epoch\"]\n",
    "    best_loss = checkpoint.get(\"best_loss\", float(\"inf\"))\n",
    "    print(f\"Resumed from epoch {epoch}  |  val loss {checkpoint['validation_loss']:.6f}\")\n",
    "    return epoch + 1, best_loss\n",
    "\n",
    "# Checkpoint saving\n",
    "def save_checkpoint(model, optimizer, scheduler, epoch, val_loss, best_loss):\n",
    "    checkpoint = {\n",
    "        \"model_state_dict\":      model.state_dict(),\n",
    "        \"optimizer_state_dict\":  optimizer.state_dict(),\n",
    "        \"scheduler_state_dict\":  scheduler.state_dict(),\n",
    "        \"epoch\":                 epoch,\n",
    "        \"validation_loss\":       val_loss,\n",
    "        \"best_loss\":             best_loss,\n",
    "    }\n",
    "    torch.save(checkpoint, f\"{save_dir}/vit_checkpoint_epoch_{epoch}.pt\")\n",
    "\n",
    "    if val_loss < best_loss:\n",
    "        torch.save(checkpoint, f\"{save_dir}/vit_best_model.pt\")\n",
    "        print(f\"🔖  New best model - val loss {val_loss:.3f}\")\n",
    "        best_loss = val_loss\n",
    "    return best_loss"
   ]
  },
  {
   "cell_type": "code",
   "execution_count": 6,
   "metadata": {},
   "outputs": [
    {
     "name": "stdout",
     "output_type": "stream",
     "text": [
      "This model has 87071912 parameters.\n",
      "Training on mps\n"
     ]
    }
   ],
   "source": [
    "vit = VisionTransformer(\n",
    "    image_size=(256, 256),    # Your input image dimensions\n",
    "    patch_size=16,           # Size of each patch\n",
    "    in_channels=3,          # We only technically don't have channel value here.\n",
    "    num_classes=1000,       # Number of output classes\n",
    "    num_layer=3,            # Number of transformer layers\n",
    "    hidden_dim=1024,        # Hidden dimension\n",
    "    expansion_factor=8,     # Expansion factor for FFN\n",
    "    head_dim=64,            # Dimension of each attention head\n",
    "    q_head=16,              # Number of query heads\n",
    "    kv_head=4,              # Number of key/value heads\n",
    "    use_moe=False,          # Whether to use Mixture of Experts\n",
    "    dropout_ratio=0.5\n",
    ").to(device)\n",
    "\n",
    "criterion = nn.CrossEntropyLoss()\n",
    "optimizer = torch.optim.AdamW(vit.parameters(), lr=lr, weight_decay=weight_decay)\n",
    "scheduler = torch.optim.lr_scheduler.CosineAnnealingLR(optimizer, T_max=epochs*len(train_loader), eta_min=1e-5)\n",
    "\n",
    "# Load checkpoint if available\n",
    "current_epoch = 0\n",
    "best_loss = float(\"inf\")\n",
    "if checkpoint_filepath is not None and checkpoint_filepath != \"\":\n",
    "    current_epoch, best_loss = load_checkpoint(vit, optimizer, scheduler, checkpoint_filepath, device)\n",
    "\n",
    "print(f\"This model has {sum(p.numel() for p in vit.parameters())} parameters.\")\n",
    "print(f\"Training on {device}\")"
   ]
  },
  {
   "cell_type": "code",
   "execution_count": 7,
   "metadata": {},
   "outputs": [],
   "source": [
    "# Initialize loss tracking lists\n",
    "loss_train = []\n",
    "loss_valid = []\n",
    "accuracy_train = []\n",
    "accuracy_valid = []"
   ]
  },
  {
   "cell_type": "code",
   "execution_count": 8,
   "metadata": {},
   "outputs": [
    {
     "name": "stdout",
     "output_type": "stream",
     "text": [
      "Epoch 1/10\n"
     ]
    },
    {
     "name": "stderr",
     "output_type": "stream",
     "text": [
      "Training:   7%|███████████                                                                                                                                                    | 1000/14403 [39:12<9:07:45,  2.45s/it]"
     ]
    },
    {
     "name": "stdout",
     "output_type": "stream",
     "text": [
      "Iteration 1000 - Avg Loss: 6.886652, Avg Accuracy: 0.40%\n"
     ]
    },
    {
     "name": "stderr",
     "output_type": "stream",
     "text": [
      "Training:  14%|█████████████████████▊                                                                                                                                       | 2000/14403 [1:20:43<8:35:38,  2.49s/it]"
     ]
    },
    {
     "name": "stdout",
     "output_type": "stream",
     "text": [
      "Iteration 2000 - Avg Loss: 6.676625, Avg Accuracy: 0.74%\n"
     ]
    },
    {
     "name": "stderr",
     "output_type": "stream",
     "text": [
      "Training:  21%|████████████████████████████████▋                                                                                                                            | 3000/14403 [2:02:39<8:04:08,  2.55s/it]"
     ]
    },
    {
     "name": "stdout",
     "output_type": "stream",
     "text": [
      "Iteration 3000 - Avg Loss: 6.583114, Avg Accuracy: 0.87%\n"
     ]
    },
    {
     "name": "stderr",
     "output_type": "stream",
     "text": [
      "Training:  28%|███████████████████████████████████████████▌                                                                                                                 | 4000/14403 [2:45:11<7:21:09,  2.54s/it]"
     ]
    },
    {
     "name": "stdout",
     "output_type": "stream",
     "text": [
      "Iteration 4000 - Avg Loss: 6.520658, Avg Accuracy: 0.98%\n"
     ]
    },
    {
     "name": "stderr",
     "output_type": "stream",
     "text": [
      "Training:  35%|██████████████████████████████████████████████████████▌                                                                                                      | 5000/14403 [3:27:52<6:47:43,  2.60s/it]"
     ]
    },
    {
     "name": "stdout",
     "output_type": "stream",
     "text": [
      "Iteration 5000 - Avg Loss: 6.455154, Avg Accuracy: 1.21%\n"
     ]
    },
    {
     "name": "stderr",
     "output_type": "stream",
     "text": [
      "Training:  42%|█████████████████████████████████████████████████████████████████▍                                                                                           | 6000/14403 [4:10:55<6:08:01,  2.63s/it]"
     ]
    },
    {
     "name": "stdout",
     "output_type": "stream",
     "text": [
      "Iteration 6000 - Avg Loss: 6.397080, Avg Accuracy: 1.31%\n"
     ]
    },
    {
     "name": "stderr",
     "output_type": "stream",
     "text": [
      "Training:  49%|████████████████████████████████████████████████████████████████████████████▎                                                                                | 7000/14403 [4:53:56<5:18:02,  2.58s/it]"
     ]
    },
    {
     "name": "stdout",
     "output_type": "stream",
     "text": [
      "Iteration 7000 - Avg Loss: 6.338722, Avg Accuracy: 1.56%\n"
     ]
    },
    {
     "name": "stderr",
     "output_type": "stream",
     "text": [
      "Training:  56%|███████████████████████████████████████████████████████████████████████████████████████▏                                                                     | 8000/14403 [5:37:02<4:34:51,  2.58s/it]"
     ]
    },
    {
     "name": "stdout",
     "output_type": "stream",
     "text": [
      "Iteration 8000 - Avg Loss: 6.285608, Avg Accuracy: 1.84%\n"
     ]
    },
    {
     "name": "stderr",
     "output_type": "stream",
     "text": [
      "Training:  62%|██████████████████████████████████████████████████████████████████████████████████████████████████                                                           | 9000/14403 [6:20:16<3:52:02,  2.58s/it]"
     ]
    },
    {
     "name": "stdout",
     "output_type": "stream",
     "text": [
      "Iteration 9000 - Avg Loss: 6.242333, Avg Accuracy: 2.02%\n"
     ]
    },
    {
     "name": "stderr",
     "output_type": "stream",
     "text": [
      "Training:  69%|████████████████████████████████████████████████████████████████████████████████████████████████████████████▎                                               | 10000/14403 [7:04:00<3:10:55,  2.60s/it]"
     ]
    },
    {
     "name": "stdout",
     "output_type": "stream",
     "text": [
      "Iteration 10000 - Avg Loss: 6.198742, Avg Accuracy: 2.20%\n"
     ]
    },
    {
     "name": "stderr",
     "output_type": "stream",
     "text": [
      "Training:  76%|███████████████████████████████████████████████████████████████████████████████████████████████████████████████████████▏                                    | 11000/14403 [7:47:26<2:27:40,  2.60s/it]"
     ]
    },
    {
     "name": "stdout",
     "output_type": "stream",
     "text": [
      "Iteration 11000 - Avg Loss: 6.165244, Avg Accuracy: 2.28%\n"
     ]
    },
    {
     "name": "stderr",
     "output_type": "stream",
     "text": [
      "Training:  83%|█████████████████████████████████████████████████████████████████████████████████████████████████████████████████████████████████▉                          | 12000/14403 [8:29:09<1:35:58,  2.40s/it]"
     ]
    },
    {
     "name": "stdout",
     "output_type": "stream",
     "text": [
      "Iteration 12000 - Avg Loss: 6.117333, Avg Accuracy: 2.63%\n"
     ]
    },
    {
     "name": "stderr",
     "output_type": "stream",
     "text": [
      "Training:  90%|██████████████████████████████████████████████████████████████████████████████████████████████████████████████████████████████████████████████▌               | 13000/14403 [9:07:20<55:00,  2.35s/it]"
     ]
    },
    {
     "name": "stdout",
     "output_type": "stream",
     "text": [
      "Iteration 13000 - Avg Loss: 6.095272, Avg Accuracy: 2.70%\n"
     ]
    },
    {
     "name": "stderr",
     "output_type": "stream",
     "text": [
      "Training:  97%|█████████████████████████████████████████████████████████████████████████████████████████████████████████████████████████████████████████████████████████▌    | 14000/14403 [9:46:24<15:52,  2.36s/it]"
     ]
    },
    {
     "name": "stdout",
     "output_type": "stream",
     "text": [
      "Iteration 14000 - Avg Loss: 6.073475, Avg Accuracy: 2.78%\n"
     ]
    },
    {
     "name": "stderr",
     "output_type": "stream",
     "text": [
      "Training: 100%|█████████████████████████████████████████████████████████████████████████████████████████████████████████████████████████████████████████████████████████████| 14403/14403 [10:02:18<00:00,  2.51s/it]\n",
      "Validation: 100%|████████████████████████████████████████████████████████████████████████████████████████████████████████████████████████████████████████████████████████████████| 1801/1801 [23:56<00:00,  1.25it/s]\n"
     ]
    },
    {
     "name": "stdout",
     "output_type": "stream",
     "text": [
      "Training - Loss: 6.350513, Accuracy: 1.72%\n",
      "Validation - Loss: 6.171954, Accuracy: 2.44%\n",
      "🔖  New best model - val loss 6.172\n",
      "Epoch 2/10\n"
     ]
    },
    {
     "name": "stderr",
     "output_type": "stream",
     "text": [
      "Training:   4%|██████▌                                                                                                                                                        | 597/14403 [25:50<10:13:42,  2.67s/it]"
     ]
    },
    {
     "name": "stdout",
     "output_type": "stream",
     "text": [
      "Iteration 15000 - Avg Loss: 6.009665, Avg Accuracy: 2.97%\n"
     ]
    },
    {
     "name": "stderr",
     "output_type": "stream",
     "text": [
      "Training:  11%|█████████████████▍                                                                                                                                           | 1597/14403 [1:09:11<9:00:46,  2.53s/it]"
     ]
    },
    {
     "name": "stdout",
     "output_type": "stream",
     "text": [
      "Iteration 16000 - Avg Loss: 5.997274, Avg Accuracy: 3.25%\n"
     ]
    },
    {
     "name": "stderr",
     "output_type": "stream",
     "text": [
      "Training:  18%|████████████████████████████▎                                                                                                                                | 2597/14403 [1:52:36<8:33:14,  2.61s/it]"
     ]
    },
    {
     "name": "stdout",
     "output_type": "stream",
     "text": [
      "Iteration 17000 - Avg Loss: 5.958666, Avg Accuracy: 3.33%\n"
     ]
    },
    {
     "name": "stderr",
     "output_type": "stream",
     "text": [
      "Training:  25%|███████████████████████████████████████▏                                                                                                                     | 3597/14403 [2:36:31<7:25:34,  2.47s/it]"
     ]
    },
    {
     "name": "stdout",
     "output_type": "stream",
     "text": [
      "Iteration 18000 - Avg Loss: 5.932547, Avg Accuracy: 3.66%\n"
     ]
    },
    {
     "name": "stderr",
     "output_type": "stream",
     "text": [
      "Training:  32%|██████████████████████████████████████████████████                                                                                                           | 4597/14403 [3:18:35<7:07:25,  2.62s/it]"
     ]
    },
    {
     "name": "stdout",
     "output_type": "stream",
     "text": [
      "Iteration 19000 - Avg Loss: 5.911347, Avg Accuracy: 3.60%\n"
     ]
    },
    {
     "name": "stderr",
     "output_type": "stream",
     "text": [
      "Training:  39%|█████████████████████████████████████████████████████████████                                                                                                | 5597/14403 [4:00:43<6:12:28,  2.54s/it]"
     ]
    },
    {
     "name": "stdout",
     "output_type": "stream",
     "text": [
      "Iteration 20000 - Avg Loss: 5.883861, Avg Accuracy: 3.84%\n"
     ]
    },
    {
     "name": "stderr",
     "output_type": "stream",
     "text": [
      "Training:  40%|███████████████████████████████████████████████████████████████                                                                                              | 5785/14403 [4:08:59<6:10:55,  2.58s/it]\n"
     ]
    },
    {
     "ename": "KeyboardInterrupt",
     "evalue": "",
     "output_type": "error",
     "traceback": [
      "\u001b[31m---------------------------------------------------------------------------\u001b[39m",
      "\u001b[31mKeyboardInterrupt\u001b[39m                         Traceback (most recent call last)",
      "\u001b[36mCell\u001b[39m\u001b[36m \u001b[39m\u001b[32mIn[8]\u001b[39m\u001b[32m, line 21\u001b[39m\n\u001b[32m     18\u001b[39m targets = targets.to(device)\n\u001b[32m     20\u001b[39m \u001b[38;5;66;03m# Forward pass with mixed precision\u001b[39;00m\n\u001b[32m---> \u001b[39m\u001b[32m21\u001b[39m outputs, load_balancing_loss = \u001b[43mvit\u001b[49m\u001b[43m(\u001b[49m\u001b[43minputs\u001b[49m\u001b[43m)\u001b[49m\n\u001b[32m     22\u001b[39m loss = criterion(outputs, targets) + load_balancing_loss\n\u001b[32m     24\u001b[39m \u001b[38;5;66;03m# Backward pass with gradient scaling\u001b[39;00m\n",
      "\u001b[36mFile \u001b[39m\u001b[32m~/Documents/Github/ViT/.venv/lib/python3.13/site-packages/torch/nn/modules/module.py:1739\u001b[39m, in \u001b[36mModule._wrapped_call_impl\u001b[39m\u001b[34m(self, *args, **kwargs)\u001b[39m\n\u001b[32m   1737\u001b[39m     \u001b[38;5;28;01mreturn\u001b[39;00m \u001b[38;5;28mself\u001b[39m._compiled_call_impl(*args, **kwargs)  \u001b[38;5;66;03m# type: ignore[misc]\u001b[39;00m\n\u001b[32m   1738\u001b[39m \u001b[38;5;28;01melse\u001b[39;00m:\n\u001b[32m-> \u001b[39m\u001b[32m1739\u001b[39m     \u001b[38;5;28;01mreturn\u001b[39;00m \u001b[38;5;28;43mself\u001b[39;49m\u001b[43m.\u001b[49m\u001b[43m_call_impl\u001b[49m\u001b[43m(\u001b[49m\u001b[43m*\u001b[49m\u001b[43margs\u001b[49m\u001b[43m,\u001b[49m\u001b[43m \u001b[49m\u001b[43m*\u001b[49m\u001b[43m*\u001b[49m\u001b[43mkwargs\u001b[49m\u001b[43m)\u001b[49m\n",
      "\u001b[36mFile \u001b[39m\u001b[32m~/Documents/Github/ViT/.venv/lib/python3.13/site-packages/torch/nn/modules/module.py:1750\u001b[39m, in \u001b[36mModule._call_impl\u001b[39m\u001b[34m(self, *args, **kwargs)\u001b[39m\n\u001b[32m   1745\u001b[39m \u001b[38;5;66;03m# If we don't have any hooks, we want to skip the rest of the logic in\u001b[39;00m\n\u001b[32m   1746\u001b[39m \u001b[38;5;66;03m# this function, and just call forward.\u001b[39;00m\n\u001b[32m   1747\u001b[39m \u001b[38;5;28;01mif\u001b[39;00m \u001b[38;5;129;01mnot\u001b[39;00m (\u001b[38;5;28mself\u001b[39m._backward_hooks \u001b[38;5;129;01mor\u001b[39;00m \u001b[38;5;28mself\u001b[39m._backward_pre_hooks \u001b[38;5;129;01mor\u001b[39;00m \u001b[38;5;28mself\u001b[39m._forward_hooks \u001b[38;5;129;01mor\u001b[39;00m \u001b[38;5;28mself\u001b[39m._forward_pre_hooks\n\u001b[32m   1748\u001b[39m         \u001b[38;5;129;01mor\u001b[39;00m _global_backward_pre_hooks \u001b[38;5;129;01mor\u001b[39;00m _global_backward_hooks\n\u001b[32m   1749\u001b[39m         \u001b[38;5;129;01mor\u001b[39;00m _global_forward_hooks \u001b[38;5;129;01mor\u001b[39;00m _global_forward_pre_hooks):\n\u001b[32m-> \u001b[39m\u001b[32m1750\u001b[39m     \u001b[38;5;28;01mreturn\u001b[39;00m \u001b[43mforward_call\u001b[49m\u001b[43m(\u001b[49m\u001b[43m*\u001b[49m\u001b[43margs\u001b[49m\u001b[43m,\u001b[49m\u001b[43m \u001b[49m\u001b[43m*\u001b[49m\u001b[43m*\u001b[49m\u001b[43mkwargs\u001b[49m\u001b[43m)\u001b[49m\n\u001b[32m   1752\u001b[39m result = \u001b[38;5;28;01mNone\u001b[39;00m\n\u001b[32m   1753\u001b[39m called_always_called_hooks = \u001b[38;5;28mset\u001b[39m()\n",
      "\u001b[36mCell\u001b[39m\u001b[36m \u001b[39m\u001b[32mIn[3]\u001b[39m\u001b[32m, line 405\u001b[39m, in \u001b[36mVisionTransformer.forward\u001b[39m\u001b[34m(self, x)\u001b[39m\n\u001b[32m    403\u001b[39m \u001b[38;5;66;03m# Pass through transformer layers\u001b[39;00m\n\u001b[32m    404\u001b[39m \u001b[38;5;28;01mfor\u001b[39;00m layer \u001b[38;5;129;01min\u001b[39;00m \u001b[38;5;28mself\u001b[39m.transformer:\n\u001b[32m--> \u001b[39m\u001b[32m405\u001b[39m     x, load_balancing_loss = \u001b[43mlayer\u001b[49m\u001b[43m(\u001b[49m\u001b[43mx\u001b[49m\u001b[43m,\u001b[49m\u001b[43m \u001b[49m\u001b[43mfine_tuning\u001b[49m\u001b[43m=\u001b[49m\u001b[38;5;28;43mself\u001b[39;49m\u001b[43m.\u001b[49m\u001b[43mfine_tuning\u001b[49m\u001b[43m)\u001b[49m\n\u001b[32m    406\u001b[39m     load_balancing_sum += load_balancing_loss\n\u001b[32m    408\u001b[39m load_balancing_loss = (load_balancing_sum / \u001b[38;5;28mself\u001b[39m.num_layer) * \u001b[38;5;28mself\u001b[39m.load_balancing_loss_weight\n",
      "\u001b[36mFile \u001b[39m\u001b[32m~/Documents/Github/ViT/.venv/lib/python3.13/site-packages/torch/nn/modules/module.py:1739\u001b[39m, in \u001b[36mModule._wrapped_call_impl\u001b[39m\u001b[34m(self, *args, **kwargs)\u001b[39m\n\u001b[32m   1737\u001b[39m     \u001b[38;5;28;01mreturn\u001b[39;00m \u001b[38;5;28mself\u001b[39m._compiled_call_impl(*args, **kwargs)  \u001b[38;5;66;03m# type: ignore[misc]\u001b[39;00m\n\u001b[32m   1738\u001b[39m \u001b[38;5;28;01melse\u001b[39;00m:\n\u001b[32m-> \u001b[39m\u001b[32m1739\u001b[39m     \u001b[38;5;28;01mreturn\u001b[39;00m \u001b[38;5;28;43mself\u001b[39;49m\u001b[43m.\u001b[49m\u001b[43m_call_impl\u001b[49m\u001b[43m(\u001b[49m\u001b[43m*\u001b[49m\u001b[43margs\u001b[49m\u001b[43m,\u001b[49m\u001b[43m \u001b[49m\u001b[43m*\u001b[49m\u001b[43m*\u001b[49m\u001b[43mkwargs\u001b[49m\u001b[43m)\u001b[49m\n",
      "\u001b[36mFile \u001b[39m\u001b[32m~/Documents/Github/ViT/.venv/lib/python3.13/site-packages/torch/nn/modules/module.py:1750\u001b[39m, in \u001b[36mModule._call_impl\u001b[39m\u001b[34m(self, *args, **kwargs)\u001b[39m\n\u001b[32m   1745\u001b[39m \u001b[38;5;66;03m# If we don't have any hooks, we want to skip the rest of the logic in\u001b[39;00m\n\u001b[32m   1746\u001b[39m \u001b[38;5;66;03m# this function, and just call forward.\u001b[39;00m\n\u001b[32m   1747\u001b[39m \u001b[38;5;28;01mif\u001b[39;00m \u001b[38;5;129;01mnot\u001b[39;00m (\u001b[38;5;28mself\u001b[39m._backward_hooks \u001b[38;5;129;01mor\u001b[39;00m \u001b[38;5;28mself\u001b[39m._backward_pre_hooks \u001b[38;5;129;01mor\u001b[39;00m \u001b[38;5;28mself\u001b[39m._forward_hooks \u001b[38;5;129;01mor\u001b[39;00m \u001b[38;5;28mself\u001b[39m._forward_pre_hooks\n\u001b[32m   1748\u001b[39m         \u001b[38;5;129;01mor\u001b[39;00m _global_backward_pre_hooks \u001b[38;5;129;01mor\u001b[39;00m _global_backward_hooks\n\u001b[32m   1749\u001b[39m         \u001b[38;5;129;01mor\u001b[39;00m _global_forward_hooks \u001b[38;5;129;01mor\u001b[39;00m _global_forward_pre_hooks):\n\u001b[32m-> \u001b[39m\u001b[32m1750\u001b[39m     \u001b[38;5;28;01mreturn\u001b[39;00m \u001b[43mforward_call\u001b[49m\u001b[43m(\u001b[49m\u001b[43m*\u001b[49m\u001b[43margs\u001b[49m\u001b[43m,\u001b[49m\u001b[43m \u001b[49m\u001b[43m*\u001b[49m\u001b[43m*\u001b[49m\u001b[43mkwargs\u001b[49m\u001b[43m)\u001b[49m\n\u001b[32m   1752\u001b[39m result = \u001b[38;5;28;01mNone\u001b[39;00m\n\u001b[32m   1753\u001b[39m called_always_called_hooks = \u001b[38;5;28mset\u001b[39m()\n",
      "\u001b[36mCell\u001b[39m\u001b[36m \u001b[39m\u001b[32mIn[3]\u001b[39m\u001b[32m, line 308\u001b[39m, in \u001b[36mVisionLayer.forward\u001b[39m\u001b[34m(self, tensor, fine_tuning)\u001b[39m\n\u001b[32m    306\u001b[39m \u001b[38;5;28;01melse\u001b[39;00m:\n\u001b[32m    307\u001b[39m     tensor = \u001b[38;5;28mself\u001b[39m.ffn(tensor, fine_tuning=fine_tuning)\n\u001b[32m--> \u001b[39m\u001b[32m308\u001b[39m     load_balancing_loss = \u001b[43mtorch\u001b[49m\u001b[43m.\u001b[49m\u001b[43mtensor\u001b[49m\u001b[43m(\u001b[49m\u001b[32;43m0.0\u001b[39;49m\u001b[43m,\u001b[49m\u001b[43m \u001b[49m\u001b[43mdtype\u001b[49m\u001b[43m=\u001b[49m\u001b[43mtensor\u001b[49m\u001b[43m.\u001b[49m\u001b[43mdtype\u001b[49m\u001b[43m,\u001b[49m\u001b[43m \u001b[49m\u001b[43mdevice\u001b[49m\u001b[43m=\u001b[49m\u001b[43mtensor\u001b[49m\u001b[43m.\u001b[49m\u001b[43mdevice\u001b[49m\u001b[43m)\u001b[49m\n\u001b[32m    310\u001b[39m tensor += skip_connection\n\u001b[32m    312\u001b[39m \u001b[38;5;28;01mreturn\u001b[39;00m tensor, load_balancing_loss\n",
      "\u001b[31mKeyboardInterrupt\u001b[39m: "
     ]
    }
   ],
   "source": [
    "# Training loop\n",
    "for epoch in range(current_epoch, epochs):\n",
    "    print(f\"Epoch {epoch+1}/{epochs}\")\n",
    "    \n",
    "    # Training phase\n",
    "    vit.train()\n",
    "    loss_train_epoch = []\n",
    "    correct_train = 0\n",
    "    total_train = 0\n",
    "    \n",
    "    # Sliding windows to store metrics for the last 1000 iterations\n",
    "    recent_losses = deque(maxlen=1000)\n",
    "    recent_corrects = deque(maxlen=1000)\n",
    "    recent_totals = deque(maxlen=1000)\n",
    "    \n",
    "    for i, (inputs, targets) in enumerate(tqdm(train_loader, desc=\"Training\")):\n",
    "        inputs = inputs.to(device)\n",
    "        targets = targets.to(device)\n",
    "        \n",
    "        # Forward pass with mixed precision\n",
    "        outputs, load_balancing_loss = vit(inputs)\n",
    "        loss = criterion(outputs, targets) + load_balancing_loss\n",
    "        \n",
    "        # Backward pass with gradient scaling\n",
    "        loss.backward()\n",
    "        \n",
    "        # Gradient clipping\n",
    "        torch.nn.utils.clip_grad_norm_(vit.parameters(), max_norm=1.0)\n",
    "        \n",
    "        # Optimizer step\n",
    "        optimizer.step()\n",
    "        \n",
    "        # Zero gradients\n",
    "        optimizer.zero_grad()\n",
    "        \n",
    "        # Update scheduler\n",
    "        scheduler.step()\n",
    "        \n",
    "        # Record loss for epoch statistics\n",
    "        loss_train_epoch.append(loss.item())\n",
    "        \n",
    "        # Calculate accuracy\n",
    "        predictions = torch.argmax(outputs, dim=1)\n",
    "        batch_correct = (predictions == targets).sum().item()\n",
    "        batch_total = targets.size(0)\n",
    "        \n",
    "        # Update running totals for epoch statistics\n",
    "        total_train += batch_total\n",
    "        correct_train += batch_correct\n",
    "        \n",
    "        # Add current batch metrics to the sliding windows\n",
    "        recent_losses.append(loss.item())\n",
    "        recent_corrects.append(batch_correct)\n",
    "        recent_totals.append(batch_total)\n",
    "        \n",
    "        # Calculate global iteration number\n",
    "        iteration = epoch * len(train_loader) + i\n",
    "        \n",
    "        # Report metrics every 1000 iterations\n",
    "        if (iteration + 1) % 1000 == 0:\n",
    "            # Calculate average metrics over the last 1000 iterations\n",
    "            avg_loss = sum(recent_losses) / len(recent_losses)\n",
    "            avg_accuracy = 100 * sum(recent_corrects) / sum(recent_totals)\n",
    "            \n",
    "            print(f\"Iteration {iteration + 1} - Avg Loss: {avg_loss:.6f}, Avg Accuracy: {avg_accuracy:.2f}%\")\n",
    "    \n",
    "    # Calculate epoch statistics\n",
    "    epoch_loss = np.mean(loss_train_epoch)\n",
    "    epoch_accuracy = 100 * correct_train / total_train\n",
    "    loss_train.append(epoch_loss)\n",
    "    accuracy_train.append(epoch_accuracy)\n",
    "    \n",
    "    # Validation phase\n",
    "    vit.eval()\n",
    "    loss_val_epoch = []\n",
    "    correct_val = 0\n",
    "    total_val = 0\n",
    "    \n",
    "    with torch.no_grad():\n",
    "        for inputs, targets in tqdm(val_loader, desc=\"Validation\"):\n",
    "            inputs = inputs.to(device)\n",
    "            targets = targets.to(device)\n",
    "            \n",
    "            # Forward pass\n",
    "            outputs, load_balancing_loss = vit(inputs)\n",
    "            loss = criterion(outputs, targets) + load_balancing_loss\n",
    "            \n",
    "            # Record loss\n",
    "            loss_val_epoch.append(loss.item())\n",
    "            \n",
    "            # Calculate accuracy\n",
    "            predictions = torch.argmax(outputs, dim=1)\n",
    "            total_val += targets.size(0)\n",
    "            correct_val += (predictions == targets).sum().item()\n",
    "    \n",
    "    # Calculate epoch validation statistics\n",
    "    epoch_val_loss = np.mean(loss_val_epoch)\n",
    "    epoch_val_accuracy = 100 * correct_val / total_val\n",
    "    loss_valid.append(epoch_val_loss)\n",
    "    accuracy_valid.append(epoch_val_accuracy)\n",
    "    \n",
    "    # Print epoch results\n",
    "    print(f\"Training - Loss: {epoch_loss:.6f}, Accuracy: {epoch_accuracy:.2f}%\")\n",
    "    print(f\"Validation - Loss: {epoch_val_loss:.6f}, Accuracy: {epoch_val_accuracy:.2f}%\")\n",
    "    \n",
    "    # Save checkpoint\n",
    "    best_loss = save_checkpoint(vit, optimizer, scheduler, epoch, epoch_val_loss, best_loss)"
   ]
  },
  {
   "cell_type": "code",
   "execution_count": null,
   "metadata": {},
   "outputs": [],
   "source": [
    "# Final evaluation on test set\n",
    "print(\"\\nEvaluating on test set...\")\n",
    "vit.eval()\n",
    "test_loss = 0\n",
    "correct = 0\n",
    "total = 0\n",
    "\n",
    "with torch.no_grad():\n",
    "    for inputs, targets in tqdm(test_loader, desc=\"Testing\"):\n",
    "        inputs = inputs.to(device)\n",
    "        targets = targets.to(device)\n",
    "        \n",
    "        outputs, load_balancing_loss = vit(inputs)\n",
    "        loss = criterion(outputs, targets) + load_balancing_loss\n",
    "        \n",
    "        test_loss += loss.item()\n",
    "        predictions = torch.argmax(outputs, dim=1)\n",
    "        total += targets.size(0)\n",
    "        correct += (predictions == targets).sum().item()\n",
    "\n",
    "avg_test_loss = test_loss / len(test_loader)\n",
    "test_accuracy = 100 * correct / total\n",
    "\n",
    "print(f\"Test set - Loss: {avg_test_loss:.6f}, Accuracy: {test_accuracy:.2f}%\")\n",
    "\n",
    "# Save final model\n",
    "torch.save({\n",
    "    'model_state_dict': vit.state_dict(),\n",
    "    'test_accuracy': test_accuracy,\n",
    "    'test_loss': avg_test_loss\n",
    "}, f\"{save_dir}/vit_final_model.pt\")\n",
    "\n",
    "print(\"Training completed!\")"
   ]
  }
 ],
 "metadata": {
  "colab": {
   "provenance": []
  },
  "kernelspec": {
   "display_name": "Python 3 (ipykernel)",
   "language": "python",
   "name": "python3"
  },
  "language_info": {
   "codemirror_mode": {
    "name": "ipython",
    "version": 3
   },
   "file_extension": ".py",
   "mimetype": "text/x-python",
   "name": "python",
   "nbconvert_exporter": "python",
   "pygments_lexer": "ipython3",
   "version": "3.13.2"
  }
 },
 "nbformat": 4,
 "nbformat_minor": 4
}
